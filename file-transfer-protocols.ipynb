{
 "cells": [
  {
   "cell_type": "markdown",
   "id": "86a04f08-b16a-4028-853e-0d585fb1c9b8",
   "metadata": {
    "jp-MarkdownHeadingCollapsed": true
   },
   "source": [
    "\n",
    "# **SSH File Transfer Protocol (SFTP)**\n",
    "\n",
    "### <span style=\"color: green;\">Introduction to SFTP</span>\n",
    "\n",
    "**SSH File Transfer Protocol** or **SFTP** is a protocol designed by the **Internet Engineering Task Force (IETF)** as an extension of the **Secure Shell (SSH)** protocol.\n",
    "\n",
    "That’s right, **SFTP stands for SSH File Transfer Protocol, and not Secure File Transfer Protocol**, as it is often mistakenly thought to be.\n",
    "\n",
    "**SSH** in turn stands for the **Secure SHell** protocol. But you may be thinking, **“Isn’t that something else?”**\n",
    "\n",
    "You are most likely familiar with SSH as a secure method of achieving connectivity to a remote command line terminal, such as to the CLI of a Cisco device or a Linux server.\n",
    "\n",
    "Although SSH was indeed initially designed as a secure replacement for the Telnet terminal protocol, providing secure login and remote terminal services, it has since evolved into a **cryptographic network protocol** for operating a wide variety of network services securely over an unsecured network.\n",
    "\n",
    "So, **SFTP leverages the security provided by SSH** to deliver file access, file transfer, and file management services over a network with the same level of security and confidentiality that we have come to expect from SSH remote terminal operations.\n",
    "\n",
    "---\n",
    "### <span style=\"color: green;\">SFTP Default Port</span>\n",
    "\n",
    "**SFTP by default uses port 22**, the same port that SSH uses. This is because SFTP is essentially an extension of the SSH protocol, leveraging its secure channel to transfer files, as mentioned above.\n",
    "\n",
    "This protocol **encrypts both the commands and the data**, preventing passwords and sensitive information from being transmitted in the clear over the network. This makes it a **secure alternative** to older protocols like FTP (File Transfer Protocol), which transmit data unencrypted. Please have in mind that if the default SSH port 22 is changed on the server side, then SFTP will work fine with the changed port number (e.g 2222 for example).\n",
    "\n",
    "---\n",
    "\n",
    "### <span style=\"color: green;\">What is SFTP and How Does it Work?</span>\n",
    "\n",
    "**SFTP** is a protocol that adheres to the client-server model and goes through the following stages to establish a secure connection, fulfill the file transfer and management process, and then tear down the connection.\n",
    "\n",
    "---\n",
    "\n",
    "#### <span style=\"color: blue;\">Establishing a Secure Connection</span>\n",
    "\n",
    "An SFTP client begins by requesting a secure connection to the SFTP server. This is achieved using standard SSH security procedures. Here’s a brief summary of the steps:\n",
    "\n",
    "1. **Client Initiates Connection**:\n",
    "   - The client sends a connection request to the SFTP server, which by default is on port 22 (the default SSH port).\n",
    "\n",
    "2. **Server Authentication**:\n",
    "   - The server responds by sending its public key to the client. This allows the client to verify the server’s authenticity, ensuring it’s connecting to the right server and not to a device masquerading as the server.\n",
    "\n",
    "   If you have used terminal programs like PuTTY with SSH, you might have seen something like this when connecting for the first time:\n",
    "   <div style=\"text-align: center;\">\n",
    "     <img src=\"putty1.png\" alt=\"PuTTY SSH Authentication\">\n",
    "   </div>\n",
    "   This “ssh-rsa” key is the public key sent by the server to authenticate itself. Every subsequent connection will use that key to check the server's authenticity.\n",
    "\n",
    "3. **Client Authentication**:\n",
    "   - Once the server is authenticated, the client is authenticated. This can be done using either:\n",
    "     - **Password Authentication**: The client sends a password to authenticate itself.\n",
    "     - **Public Key Authentication**: The client uses a private key to sign data that the server verifies with the corresponding public key.\n",
    "\n",
    "4. **SSH Session Setup**:\n",
    "   - After successful authentication, a secure SSH channel is established using symmetric encryption. This encrypted tunnel protects the confidentiality and integrity of data transferred over the connection.\n",
    "\n",
    "---\n",
    "\n",
    "#### <span style=\"color: blue;\">File Transfer Process</span>\n",
    "\n",
    "Once the secure encrypted tunnel has been established, the SFTP subsystem is initiated by the client. This allows the client to issue SFTP commands over the secure SSH tunnel.\n",
    "\n",
    "- **Common Commands**:\n",
    "  - **put** and **get**: Used to send and receive files.\n",
    "  - **Linux-like Commands**: Used to list files, create directories, and change file permissions.\n",
    "\n",
    "It’s important to note that all commands and files transmitted are sent over the secure SSH tunnel.\n",
    "\n",
    "---\n",
    "\n",
    "#### <span style=\"color: blue;\">Session Management (Ending the Session)</span>\n",
    "\n",
    "Once all intended transactions are complete, the session can be torn down.\n",
    "\n",
    "---\n"
   ]
  },
  {
   "cell_type": "markdown",
   "id": "d6357b72-411f-4d1c-87eb-65641ff57252",
   "metadata": {},
   "source": [
    "# **Connecting to SFTP Server Using Python**\n",
    "Retrieve credentials from the environment file."
   ]
  },
  {
   "cell_type": "code",
   "execution_count": 49,
   "id": "ba035cb9-f213-4805-bbd0-063f6bb8900d",
   "metadata": {},
   "outputs": [],
   "source": [
    "import os\n",
    "from dotenv import load_dotenv\n",
    "load_dotenv()\n",
    "host = os.getenv('SFTP_HOST')\n",
    "username = os.getenv('SFTP_USERNAME')\n",
    "password = os.getenv('SFTP_PASSWORD')"
   ]
  },
  {
   "cell_type": "markdown",
   "id": "32029f70-fe11-44b9-b7dd-24a714572615",
   "metadata": {},
   "source": [
    "---\n",
    "\n",
    "Create an instance of the `SSHClient` class from the `paramiko` library. This client is used to establish an SSH connection to a remote server."
   ]
  },
  {
   "cell_type": "code",
   "execution_count": 22,
   "id": "ae891df4-b26d-4d70-86bb-b371882e6381",
   "metadata": {},
   "outputs": [],
   "source": [
    "import paramiko as pmk\n",
    "ssh = pmk.SSHClient()"
   ]
  },
  {
   "cell_type": "markdown",
   "id": "2fec880b-35fa-417e-ad0f-fedfc205d687",
   "metadata": {},
   "source": [
    "---\n",
    "\n",
    "Set the policy for automatically adding the host key of the remote server to the list of known hosts. `AutoAddPolicy` is a policy for automatically trusting the remote server’s SSH key without prompting the user. **This is useful for automation but should be used with caution in production environments due to security risks**."
   ]
  },
  {
   "cell_type": "code",
   "execution_count": 23,
   "id": "8cceff69-4825-4e67-956b-18670c7f28ab",
   "metadata": {},
   "outputs": [],
   "source": [
    "ssh.set_missing_host_key_policy(pmk.AutoAddPolicy())"
   ]
  },
  {
   "cell_type": "markdown",
   "id": "63b4b20b-96b7-45d3-b399-e03b2dd62628",
   "metadata": {},
   "source": [
    "---\n",
    "\n",
    "Establish an SSH connection to the remote server using the provided hostname, username, and password. The connect method handles the authentication process."
   ]
  },
  {
   "cell_type": "code",
   "execution_count": 24,
   "id": "9e6fafd8-356d-4aa9-b540-fd43c8e03b97",
   "metadata": {},
   "outputs": [],
   "source": [
    "ssh.connect(hostname=host, username=username, password=password)"
   ]
  },
  {
   "cell_type": "markdown",
   "id": "1ac764b1-63c4-4dd9-a6da-285dd1a6613b",
   "metadata": {},
   "source": [
    "Open an SFTP session over the established SSH connection. The `open_sftp` method returns an `SFTPClient` object, which can be used to perform file operations on the remote server, such as uploading, downloading, and listing files."
   ]
  },
  {
   "cell_type": "code",
   "execution_count": 25,
   "id": "d1a6e736-3ea8-4a77-827c-3557555e7f21",
   "metadata": {},
   "outputs": [],
   "source": [
    "sftp_client = ssh.open_sftp()"
   ]
  },
  {
   "cell_type": "markdown",
   "id": "e6173506-9988-45fe-87ca-d07792526868",
   "metadata": {},
   "source": [
    "---\n",
    "List all methods associated with `sftp_client`"
   ]
  },
  {
   "cell_type": "code",
   "execution_count": 28,
   "id": "caba3576-6395-4cf6-976a-5c16e99bcfc0",
   "metadata": {},
   "outputs": [
    {
     "name": "stdout",
     "output_type": "stream",
     "text": [
      "['__class__', '__delattr__', '__dict__', '__dir__', '__doc__', '__enter__', '__eq__', '__exit__', '__format__', '__ge__', '__getattribute__', '__gt__', '__hash__', '__init__', '__init_subclass__', '__le__', '__lt__', '__module__', '__ne__', '__new__', '__reduce__', '__reduce_ex__', '__repr__', '__setattr__', '__sizeof__', '__str__', '__subclasshook__', '__weakref__', '_adjust_cwd', '_async_request', '_convert_status', '_cwd', '_expecting', '_finish_responses', '_lock', '_log', '_read_all', '_read_packet', '_read_response', '_request', '_send_packet', '_send_server_version', '_send_version', '_transfer_with_callback', '_write_all', 'chdir', 'chmod', 'chown', 'close', 'file', 'from_transport', 'get', 'get_channel', 'getcwd', 'getfo', 'listdir', 'listdir_attr', 'listdir_iter', 'logger', 'lstat', 'mkdir', 'normalize', 'open', 'posix_rename', 'put', 'putfo', 'readlink', 'remove', 'rename', 'request_number', 'rmdir', 'sock', 'stat', 'symlink', 'truncate', 'ultra_debug', 'unlink', 'utime']\n"
     ]
    }
   ],
   "source": [
    "print(dir(sftp_client))"
   ]
  },
  {
   "cell_type": "markdown",
   "id": "cf8cc5a1-615e-467f-9437-8cb0172a205f",
   "metadata": {},
   "source": [
    "---\n",
    "Download a file say, `wmr0881.csv` from the remote server to the local machine as `test.csv`"
   ]
  },
  {
   "cell_type": "code",
   "execution_count": 18,
   "id": "a968127b-2435-45ba-98db-3bb026fa8f45",
   "metadata": {},
   "outputs": [],
   "source": [
    "sftp_client.get('/data/WMR_Spots/UK-4pm-wmr/history/wmr0811.csv', 'test.csv')"
   ]
  },
  {
   "cell_type": "markdown",
   "id": "ba99f1e1-c669-416e-abe3-3a25f089c4b1",
   "metadata": {},
   "source": [
    "---\n",
    "\n",
    "Now let's put all the steps together into a function. Write a function to connect to SFTP server given the credentials."
   ]
  },
  {
   "cell_type": "code",
   "execution_count": 54,
   "id": "b02374be-cf74-4d3c-a3c0-37ac83d69911",
   "metadata": {},
   "outputs": [],
   "source": [
    "import paramiko as pmk\n",
    "def sftp_connect(host=host, username=username, password=password):\n",
    "    try:\n",
    "        ssh = pmk.SSHClient()\n",
    "        ssh.set_missing_host_key_policy(pmk.AutoAddPolicy())\n",
    "        ssh.connect(hostname=host,\n",
    "                    username=username,\n",
    "                    password=password)\n",
    "        sftp_client = ssh.open_sftp()\n",
    "        return sftp_client\n",
    "    except Exception as e:\n",
    "        print(f\"Connection failed: {e}\")\n",
    "        return None"
   ]
  },
  {
   "cell_type": "code",
   "execution_count": 56,
   "id": "7114d15f-44db-477d-be8f-8d541d6984da",
   "metadata": {},
   "outputs": [],
   "source": [
    "sftp = sftp_connect()"
   ]
  },
  {
   "cell_type": "markdown",
   "id": "03df9620-876c-47d8-9763-d08cab9feddc",
   "metadata": {},
   "source": [
    "---\n",
    "\n",
    "Write a function that takes an sftp instance, and downloads `filename` from `remote_dir` inside `local_dir`."
   ]
  },
  {
   "cell_type": "code",
   "execution_count": 62,
   "id": "7bc0cd67-412a-4f72-b674-0450e1200c32",
   "metadata": {},
   "outputs": [],
   "source": [
    "def search_and_download(sftp, remote_dir, filename, local_dir='./'):\n",
    "    \"\"\"\n",
    "    Recursively searches for a specified file in a remote directory and downloads it to a local directory.\n",
    "\n",
    "    Args:\n",
    "        sftp (paramiko.SFTPClient): An active SFTP client connection.\n",
    "        remote_dir (str): The remote directory to start the search from.\n",
    "        filename (str): The name of the file to search for.\n",
    "        local_dir (str): The local directory to download the file to.\n",
    "\n",
    "    Returns:\n",
    "        bool: True if the file is found and downloaded, False otherwise.\n",
    "\n",
    "    Raises:\n",
    "        FileNotFoundError: If the specified file or directory is not found.\n",
    "        PermissionError: If there are permission issues accessing the file or directory.\n",
    "        Exception: For any other unexpected errors during the search and download process.\n",
    "\n",
    "    \"\"\"\n",
    "    try:\n",
    "        print(f\"Searching in directory: {remote_dir}\")\n",
    "        for entry in sftp.listdir_attr(remote_dir):\n",
    "            remote_path = os.path.join(remote_dir, entry.filename).replace('\\\\', '/')\n",
    "            if stat.S_ISDIR(entry.st_mode):\n",
    "                print(f\"Entering directory: {remote_path}\")\n",
    "                if search_and_download(sftp, remote_path, filename, local_dir):\n",
    "                    return True\n",
    "                    \n",
    "            elif entry.filename == filename:\n",
    "                local_path = os.path.join(local_dir, filename)\n",
    "                print(f\"File found: {remote_path}\")\n",
    "                sftp.get(remote_path, local_path)\n",
    "                print(f\"File {filename} downloaded to {local_path}\")\n",
    "                return True\n",
    "        return False\n",
    "    except FileNotFoundError as e:\n",
    "        print(f\"Error during search and download: {e}\")\n",
    "        return False\n",
    "    except PermissionError as e:\n",
    "        print(f\"Permission error: {e}\")\n",
    "        return False\n",
    "    except Exception as e:\n",
    "        print(f\"Unexpected error: {e}\")\n",
    "        return False"
   ]
  },
  {
   "cell_type": "code",
   "execution_count": 63,
   "id": "768e4261-c688-4e56-bc5d-e67630bf4b14",
   "metadata": {},
   "outputs": [
    {
     "name": "stdout",
     "output_type": "stream",
     "text": [
      "Searching in directory: /\n",
      "Entering directory: /data\n",
      "Searching in directory: /data\n",
      "Entering directory: /data/WMR_Spots\n",
      "Searching in directory: /data/WMR_Spots\n",
      "Entering directory: /data/WMR_Spots/CET-2pm\n",
      "Searching in directory: /data/WMR_Spots/CET-2pm\n",
      "Entering directory: /data/WMR_Spots/CET-2pm/history\n",
      "Searching in directory: /data/WMR_Spots/CET-2pm/history\n",
      "Entering directory: /data/WMR_Spots/UK-4pm-eur\n",
      "Searching in directory: /data/WMR_Spots/UK-4pm-eur\n",
      "Entering directory: /data/WMR_Spots/UK-4pm-eur/history\n",
      "Searching in directory: /data/WMR_Spots/UK-4pm-eur/history\n",
      "Entering directory: /data/WMR_Spots/UK-4pm-wmr\n",
      "Searching in directory: /data/WMR_Spots/UK-4pm-wmr\n",
      "Entering directory: /data/WMR_Spots/UK-4pm-wmr/history\n",
      "Searching in directory: /data/WMR_Spots/UK-4pm-wmr/history\n",
      "Entering directory: /data/WMR_Forwards_Outright\n",
      "Searching in directory: /data/WMR_Forwards_Outright\n",
      "Entering directory: /data/WMR_Forwards_Outright/UK-4pm-EUR\n",
      "Searching in directory: /data/WMR_Forwards_Outright/UK-4pm-EUR\n",
      "Entering directory: /data/WMR_Forwards_Outright/UK-4pm-EUR/history\n",
      "Searching in directory: /data/WMR_Forwards_Outright/UK-4pm-EUR/history\n",
      "Entering directory: /data/WMR_Forwards_Outright/UK-4pm-GBP\n",
      "Searching in directory: /data/WMR_Forwards_Outright/UK-4pm-GBP\n",
      "Entering directory: /data/WMR_Forwards_Outright/UK-4pm-GBP/history\n",
      "Searching in directory: /data/WMR_Forwards_Outright/UK-4pm-GBP/history\n",
      "Entering directory: /data/WMR_Forwards_Outright/UK-4pm-USD\n",
      "Searching in directory: /data/WMR_Forwards_Outright/UK-4pm-USD\n",
      "Entering directory: /data/WMR_Forwards_Outright/UK-4pm-USD/history\n",
      "Searching in directory: /data/WMR_Forwards_Outright/UK-4pm-USD/history\n",
      "File wmr1006.csv not found on the server.\n"
     ]
    }
   ],
   "source": [
    "remote_dir = '/'\n",
    "filename = 'wmr1006.csv'\n",
    "local_dir = './'\n",
    "\n",
    "sftp = sftp_connect(host, username, password)\n",
    "if sftp:\n",
    "    found = search_and_download(sftp, remote_dir, filename, local_dir)\n",
    "    if not found:\n",
    "        print(f\"File {filename} not found on the server.\")\n",
    "    sftp.close()"
   ]
  },
  {
   "cell_type": "markdown",
   "id": "f99064ee-c8c4-429a-849d-31c684ed7403",
   "metadata": {},
   "source": [
    "---\n",
    "\n",
    "Now let's write a funcion that uploads a local file to remote server."
   ]
  },
  {
   "cell_type": "code",
   "execution_count": 64,
   "id": "b9fb238c-ace2-473f-aafc-abb70ab3ba45",
   "metadata": {},
   "outputs": [],
   "source": [
    "def upload_file(sftp, local_file_path, remote_file_path):\n",
    "    \"\"\"\n",
    "    Uploads a local file to a specified remote server path.\n",
    "\n",
    "    Args:\n",
    "        sftp (paramiko.SFTPClient): An active SFTP client connection.\n",
    "        local_file_path (str): The path to the local file to be uploaded.\n",
    "        remote_file_path (str): The path on the remote server where the file will be uploaded.\n",
    "\n",
    "    Returns:\n",
    "        bool: True if the file is successfully uploaded, False otherwise.\n",
    "\n",
    "    Raises:\n",
    "        FileNotFoundError: If the local file does not exist.\n",
    "        Exception: For any other unexpected errors during the upload process.\n",
    "    \"\"\"\n",
    "    try:\n",
    "        if not os.path.isfile(local_file_path):\n",
    "            raise FileNotFoundError(f\"Local file {local_file_path} does not exist.\")\n",
    "        \n",
    "        sftp.put(local_file_path, remote_file_path)\n",
    "        print(f\"File {local_file_path} uploaded to {remote_file_path}\")\n",
    "        return True\n",
    "    except FileNotFoundError as e:\n",
    "        print(f\"Error during upload: {e}\")\n",
    "        return False\n",
    "    except Exception as e:\n",
    "        print(f\"Unexpected error: {e}\")\n",
    "        return False"
   ]
  },
  {
   "cell_type": "code",
   "execution_count": null,
   "id": "74bc0483-7a25-4932-9642-7ae4be2333c6",
   "metadata": {},
   "outputs": [],
   "source": []
  }
 ],
 "metadata": {
  "kernelspec": {
   "display_name": "Python 3 (ipykernel)",
   "language": "python",
   "name": "python3"
  },
  "language_info": {
   "codemirror_mode": {
    "name": "ipython",
    "version": 3
   },
   "file_extension": ".py",
   "mimetype": "text/x-python",
   "name": "python",
   "nbconvert_exporter": "python",
   "pygments_lexer": "ipython3",
   "version": "3.9.9"
  }
 },
 "nbformat": 4,
 "nbformat_minor": 5
}
